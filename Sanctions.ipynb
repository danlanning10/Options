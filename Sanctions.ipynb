{
 "cells": [
  {
   "cell_type": "code",
   "execution_count": 103,
   "id": "cb25531d",
   "metadata": {},
   "outputs": [
    {
     "name": "stdout",
     "output_type": "stream",
     "text": [
      "['', 'ATADD   ', 'LKOD    ', 'LKODB   ', 'LKODC   ', 'LKODD   ', 'NLM     ', 'OGZD    ', 'OGZDB   ', 'OGZDC   ', 'OGZDD', 'FHER3   ', '5089 ', 'M1BT34  ', 'FHER3   ', 'ITV ', 'M1BT34  ', 'URKA    ', 'AKRN    ', 'LKOD    ', 'MMK     ', 'MNOD      ', 'YDX     ', '600685  ', '600862  ', '600118  ']\n",
      "['_TICKER', 'AF Equity', 'AF Equity', 'AF Equity', 'AF Equity', 'AF Equity', 'AF Equity', 'AF Equity', 'AF Equity', 'AF Equity', 'AF Equity', 'BN Equity', 'JP Equity', 'BN Equity', 'BS Equity', 'LN Equity', 'BS Equity', 'BW Equity', 'BW Equity', 'BW Equity', 'BW Equity', 'BW Equity', 'BW Equity', 'CG Equity', 'CG Equity', 'CG Equity']\n"
     ]
    }
   ],
   "source": [
    "#Function which separates the tickers from the exchange code/security type in the sanctions file\n",
    "import csv\n",
    "\n",
    "Tickers = []\n",
    "EC_securitytype = []\n",
    "def split_last_9_characters(input_string):\n",
    "    return input_string[:-9], input_string[-9:]\n",
    "\n",
    "def main():\n",
    "    # File path\n",
    "    csv_file = 'bulk_sanctions.csv'\n",
    "    \n",
    "    # List to store the separated elements\n",
    "    separated_elements = []\n",
    "\n",
    "    # Read the first column of the CSV file and split each element\n",
    "    with open(csv_file, 'r', newline='') as csvfile:\n",
    "        reader = csv.reader(csvfile)\n",
    "        for row in reader:\n",
    "            if row:\n",
    "                first_column_element = row[0]\n",
    "                element_before_last_9, last_9_characters = split_last_9_characters(first_column_element)\n",
    "                separated_elements.append([element_before_last_9, last_9_characters])\n",
    "\n",
    "    # Display the separated elements in separate lists\n",
    "    \n",
    "    for i, element_pair in enumerate(separated_elements, 1):\n",
    "        Tickers.append(element_pair[0])\n",
    "        EC_securitytype.append(element_pair[1])\n",
    "        #print(f\"Element {i} - Characters before last 9: {element_pair[0]}, Last 9 characters: {element_pair[1]}\")\n",
    "\n",
    "if __name__ == \"__main__\":\n",
    "    main()\n",
    "    \n",
    "print(Tickers)\n",
    "print(EC_securitytype)"
   ]
  },
  {
   "cell_type": "code",
   "execution_count": 104,
   "id": "aca31515",
   "metadata": {},
   "outputs": [
    {
     "name": "stdout",
     "output_type": "stream",
     "text": [
      "First Two Characters List: ['_T', 'AF', 'AF', 'AF', 'AF', 'AF', 'AF', 'AF', 'AF', 'AF', 'AF', 'BN', 'JP', 'BN', 'BS', 'LN', 'BS', 'BW', 'BW', 'BW', 'BW', 'BW', 'BW', 'CG', 'CG', 'CG']\n"
     ]
    }
   ],
   "source": [
    "#Function to extract the exchange codes from the exchange code/security type sourced above\n",
    "def extract_first_two_chars(input_list):\n",
    "    first_two_chars_list = [string[:2] for string in input_list]\n",
    "    return first_two_chars_list\n",
    "\n",
    "BS_exchange_code = extract_first_two_chars(EC_securitytype)\n",
    "print(\"First Two Characters List:\", BS_exchange_code)"
   ]
  },
  {
   "cell_type": "code",
   "execution_count": 105,
   "id": "66df1f0e",
   "metadata": {},
   "outputs": [
    {
     "name": "stdout",
     "output_type": "stream",
     "text": [
      "['', 'ATADD', 'LKOD', 'LKODB', 'LKODC', 'LKODD', 'NLM', 'OGZD', 'OGZDB', 'OGZDC', 'OGZDD', 'FHER3', '5089', 'M1BT34', 'FHER3', 'ITV', 'M1BT34', 'URKA', 'AKRN', 'LKOD', 'MMK', 'MNOD', 'YDX', '600685', '600862', '600118']\n"
     ]
    }
   ],
   "source": [
    "#Regulate spaces in the tickers list to create a consistent format\n",
    "import re\n",
    "\n",
    "def remove_spaces_from_strings(input_list):\n",
    "    # Create an empty list to store the updated strings\n",
    "    updated_list = []\n",
    "\n",
    "    # Regular expression to replace consecutive spaces with a single space\n",
    "    regex_pattern = r'\\s{1,10}'\n",
    "    \n",
    "    # Iterate through each element in the input list\n",
    "    for string_element in input_list:\n",
    "        # Remove spaces (up to 10 in a row) from the current element and append to the updated list\n",
    "        updated_list.append(re.sub(regex_pattern, '', string_element))\n",
    "\n",
    "    return updated_list\n",
    "\n",
    "Tickers_nospaces = remove_spaces_from_strings(Tickers)\n",
    "print(Tickers_nospaces)"
   ]
  },
  {
   "cell_type": "code",
   "execution_count": 106,
   "id": "cfcf65c1",
   "metadata": {},
   "outputs": [
    {
     "name": "stdout",
     "output_type": "stream",
     "text": [
      "26\n",
      "26\n",
      "[' _T', 'ATADD AF', 'LKOD AF', 'LKODB AF', 'LKODC AF', 'LKODD AF', 'NLM AF', 'OGZD AF', 'OGZDB AF', 'OGZDC AF', 'OGZDD AF', 'FHER3 BN', '5089 JP', 'M1BT34 BN', 'FHER3 BS', 'ITV LN', 'M1BT34 BS', 'URKA BW', 'AKRN BW', 'LKOD BW', 'MMK BW', 'MNOD BW', 'YDX BW', '600685 CG', '600862 CG', '600118 CG']\n"
     ]
    }
   ],
   "source": [
    "# Command to concatenate the columns of data in the sanctions file, these are in the same format as the tickers file\n",
    "BS_tickers_and_EC = []\n",
    "print(len(Tickers_nospaces))\n",
    "print(len(BS_exchange_code))\n",
    "\n",
    "if len(Tickers_nospaces) == len(BS_exchange_code):\n",
    "    for i in range(len(BS_exchange_code)):\n",
    "        BS_tickers_and_EC.append(Tickers_nospaces[i] + \" \" + BS_exchange_code[i])\n",
    "else:\n",
    "    print(\"Error, lists are not the same length\")\n",
    "    \n",
    "print(BS_tickers_and_EC)"
   ]
  },
  {
   "cell_type": "code",
   "execution_count": 107,
   "id": "ab885b8c",
   "metadata": {},
   "outputs": [
    {
     "name": "stdout",
     "output_type": "stream",
     "text": [
      "['OFAC_SANCTIONED_SECURITY', 'N', 'N', 'N', 'N', 'N', 'N', 'N', 'N', 'N', 'N', 'N', 'N', 'N', 'N', 'N', 'N', 'N', 'N', 'N', 'Y', 'N', 'N', 'N', 'N', 'N']\n",
      "['EU_SANCTIONED_SECURITY', 'N', 'N', 'N', 'N', 'N', 'N', 'N', 'N', 'N', 'N', 'Y', 'Y', 'N', 'Y', 'N', 'N', 'N', 'N', 'N', 'Y', 'N', 'N', 'N', 'N', 'N']\n",
      "['UK_SANCTIONED_SECURITY', 'N', 'N', 'N', 'N', 'N', 'N', 'N', 'N', 'N', 'N', 'N', 'N', 'N', 'N', 'Y', 'N', 'N', 'N', 'N', 'Y', 'N', 'N', 'Y', 'Y', 'Y']\n",
      "['EO14071_SANCTIONED_SECURITY', 'Y', 'Y', 'Y', 'Y', 'Y', 'Y', 'Y', 'Y', 'Y', 'Y', 'N', 'N', 'Y', 'N', 'N', 'Y', 'Y', 'Y', 'Y', 'Y', 'Y', 'Y', 'N', 'N', 'N']\n",
      "[' _T', 'ATADD AF', 'LKOD AF', 'LKODB AF', 'LKODC AF', 'LKODD AF', 'NLM AF', 'OGZD AF', 'OGZDB AF', 'OGZDC AF', 'OGZDD AF', 'FHER3 BN', '5089 JP', 'M1BT34 BN', 'FHER3 BS', 'ITV LN', 'M1BT34 BS', 'URKA BW', 'AKRN BW', 'LKOD BW', 'MMK BW', 'MNOD BW', 'YDX BW', '600685 CG', '600862 CG', '600118 CG']\n",
      "['TICKER', 'LDD', 'ATADD', 'GHTY', 'JKHG', 'JKHG', 'MNOD', 'FGD', 'AAPL', 'LKODC', 'MSN', 'OGZDD', '5089', '3022', '4022', 'FHD', 'FHD', 'ITV', 'ADL', 'YDX', '600685', 'M1BT34', 'BOW', 'BOW1', 'LKODC', 'BRE']\n",
      "['EXCH_CODE', 'LN', 'AF', 'AF', 'LN', 'LN', 'BW', 'US', 'US', 'AF', 'US', 'AF', 'JP', 'JP', 'JP', 'UW', 'US', 'LN', 'LN', 'BW', 'CG', 'BN', 'AF', 'AF', 'US', 'AF']\n"
     ]
    }
   ],
   "source": [
    "import csv\n",
    "\n",
    "def read_columns_from_csv(filename, start_column, end_column):\n",
    "    data_lists = [[] for _ in range(end_column - start_column + 1)]\n",
    "\n",
    "    with open(filename, 'r', newline='') as csvfile:\n",
    "        reader = csv.reader(csvfile)\n",
    "        for row in reader:\n",
    "            for i in range(start_column, end_column + 1):\n",
    "                data_lists[i - start_column].append(row[i])\n",
    "\n",
    "    return data_lists\n",
    "\n",
    "# File name with the data to be read\n",
    "csv_file = 'bulk_sanctions.csv'\n",
    "start_column = 1  # Column 2\n",
    "end_column = 4    # Column 5\n",
    "\n",
    "columns_2_to_5 = read_columns_from_csv(csv_file, start_column, end_column)\n",
    "column_2 = columns_2_to_5[0]\n",
    "column_3 = columns_2_to_5[1]\n",
    "column_4 = columns_2_to_5[2]\n",
    "column_5 = columns_2_to_5[3]\n",
    "\n",
    "# File name with the data to be read\n",
    "csv_file = 'tickers.csv'\n",
    "start_column = 0  # Column 2\n",
    "end_column = 1    # Column 5\n",
    "\n",
    "columns_1_and_2 = read_columns_from_csv(csv_file, start_column, end_column)\n",
    "tickerscsv_column_1 = columns_1_and_2[0]\n",
    "tickerscsv_column_2 = columns_1_and_2[1]\n",
    "\n",
    "\n",
    "\n",
    "# Display the separate lists\n",
    "print(column_2)\n",
    "print(column_3)\n",
    "print(column_4)\n",
    "print(column_5)\n",
    "print(BS_tickers_and_EC)\n",
    "print(tickerscsv_column_1)\n",
    "print(tickerscsv_column_2)"
   ]
  },
  {
   "cell_type": "code",
   "execution_count": 108,
   "id": "c6bea778",
   "metadata": {},
   "outputs": [
    {
     "name": "stdout",
     "output_type": "stream",
     "text": [
      "26\n",
      "26\n",
      "['TICKER EXCH_CODE', 'LDD LN', 'ATADD AF', 'GHTY AF', 'JKHG LN', 'JKHG LN', 'MNOD BW', 'FGD US', 'AAPL US', 'LKODC AF', 'MSN US', 'OGZDD AF', '5089 JP', '3022 JP', '4022 JP', 'FHD UW', 'FHD US', 'ITV LN', 'ADL LN', 'YDX BW', '600685 CG', 'M1BT34 BN', 'BOW AF', 'BOW1 AF', 'LKODC US', 'BRE AF']\n"
     ]
    }
   ],
   "source": [
    "# Command to concatenate the two columns of data in the tickers.csv file, these are in the same format as the sanctions file\n",
    "Tckrscsv_tickers_and_EC = []\n",
    "print(len(tickerscsv_column_1))\n",
    "print(len(tickerscsv_column_2))\n",
    "\n",
    "if len(tickerscsv_column_1) == len(tickerscsv_column_2):\n",
    "    for i in range(len(tickerscsv_column_1)):\n",
    "        Tckrscsv_tickers_and_EC.append(tickerscsv_column_1[i] + \" \" + tickerscsv_column_2[i])\n",
    "else:\n",
    "    print(\"Error, lists are not the same length\")\n",
    "    \n",
    "print(Tckrscsv_tickers_and_EC)"
   ]
  },
  {
   "cell_type": "code",
   "execution_count": 109,
   "id": "54a56fbe",
   "metadata": {},
   "outputs": [
    {
     "name": "stdout",
     "output_type": "stream",
     "text": [
      "[[' _T', 'OFAC_SANCTIONED_SECURITY', 'EU_SANCTIONED_SECURITY', 'UK_SANCTIONED_SECURITY', 'EO14071_SANCTIONED_SECURITY'], ['ATADD AF', 'N', 'N', 'N', 'Y'], ['LKOD AF', 'N', 'N', 'N', 'Y'], ['LKODB AF', 'N', 'N', 'N', 'Y'], ['LKODC AF', 'N', 'N', 'N', 'Y'], ['LKODD AF', 'N', 'N', 'N', 'Y'], ['NLM AF', 'N', 'N', 'N', 'Y'], ['OGZD AF', 'N', 'N', 'N', 'Y'], ['OGZDB AF', 'N', 'N', 'N', 'Y'], ['OGZDC AF', 'N', 'N', 'N', 'Y'], ['OGZDD AF', 'N', 'N', 'N', 'Y'], ['FHER3 BN', 'N', 'Y', 'N', 'N'], ['5089 JP', 'N', 'Y', 'N', 'N'], ['M1BT34 BN', 'N', 'N', 'N', 'Y'], ['FHER3 BS', 'N', 'Y', 'N', 'N'], ['ITV LN', 'N', 'N', 'Y', 'N'], ['M1BT34 BS', 'N', 'N', 'N', 'Y'], ['URKA BW', 'N', 'N', 'N', 'Y'], ['AKRN BW', 'N', 'N', 'N', 'Y'], ['LKOD BW', 'N', 'N', 'N', 'Y'], ['MMK BW', 'Y', 'Y', 'Y', 'Y'], ['MNOD BW', 'N', 'N', 'N', 'Y'], ['YDX BW', 'N', 'N', 'N', 'Y'], ['600685 CG', 'N', 'N', 'Y', 'N'], ['600862 CG', 'N', 'N', 'Y', 'N'], ['600118 CG', 'N', 'N', 'Y', 'N']]\n"
     ]
    }
   ],
   "source": [
    "#Command to join the information in the bulk sanctions file into nested lists\n",
    "\n",
    "bulk_sanctions_edited = []\n",
    "\n",
    "for i in range(len(column_5)):\n",
    "    bulk_sanctions_edited.append([BS_tickers_and_EC[i], column_2[i], column_3[i], column_4[i], column_5[i]])\n",
    "    \n",
    "print(bulk_sanctions_edited)"
   ]
  },
  {
   "cell_type": "code",
   "execution_count": 110,
   "id": "f8833f1f",
   "metadata": {},
   "outputs": [
    {
     "name": "stdout",
     "output_type": "stream",
     "text": [
      "data_to_write: [['TICKER EXCH_CODE', 'N', 'N', 'N', 'N'], ['LDD LN', 'N', 'N', 'N', 'N'], ['ATADD AF', 'N', 'N', 'N', 'Y'], ['GHTY AF', 'N', 'N', 'N', 'N'], ['JKHG LN', 'N', 'N', 'N', 'N'], ['JKHG LN', 'N', 'N', 'N', 'N'], ['MNOD BW', 'N', 'N', 'N', 'Y'], ['FGD US', 'N', 'N', 'N', 'N'], ['AAPL US', 'N', 'N', 'N', 'N'], ['LKODC AF', 'N', 'N', 'N', 'Y'], ['MSN US', 'N', 'N', 'N', 'N'], ['OGZDD AF', 'N', 'N', 'N', 'Y'], ['5089 JP', 'N', 'Y', 'N', 'N'], ['3022 JP', 'N', 'N', 'N', 'N'], ['4022 JP', 'N', 'N', 'N', 'N'], ['FHD UW', 'N', 'N', 'N', 'N'], ['FHD US', 'N', 'N', 'N', 'N'], ['ITV LN', 'N', 'N', 'Y', 'N'], ['ADL LN', 'N', 'N', 'N', 'N'], ['YDX BW', 'N', 'N', 'N', 'Y'], ['600685 CG', 'N', 'N', 'Y', 'N'], ['M1BT34 BN', 'N', 'N', 'N', 'Y'], ['BOW AF', 'N', 'N', 'N', 'N'], ['BOW1 AF', 'N', 'N', 'N', 'N'], ['LKODC US', 'N', 'N', 'N', 'N'], ['BRE AF', 'N', 'N', 'N', 'N']]\n",
      "26\n",
      "data_to_write: [['Ticker and Exchange Code', 'OFAC_SANCTIONED_SECURITY', 'EU_SANCTIONED_SECURITY', 'UK_SANCTIONED_SECURITY', 'EO14071_SANCTIONED_SECURITY'], ['LDD LN', 'N', 'N', 'N', 'N'], ['ATADD AF', 'N', 'N', 'N', 'Y'], ['GHTY AF', 'N', 'N', 'N', 'N'], ['JKHG LN', 'N', 'N', 'N', 'N'], ['JKHG LN', 'N', 'N', 'N', 'N'], ['MNOD BW', 'N', 'N', 'N', 'Y'], ['FGD US', 'N', 'N', 'N', 'N'], ['AAPL US', 'N', 'N', 'N', 'N'], ['LKODC AF', 'N', 'N', 'N', 'Y'], ['MSN US', 'N', 'N', 'N', 'N'], ['OGZDD AF', 'N', 'N', 'N', 'Y'], ['5089 JP', 'N', 'Y', 'N', 'N'], ['3022 JP', 'N', 'N', 'N', 'N'], ['4022 JP', 'N', 'N', 'N', 'N'], ['FHD UW', 'N', 'N', 'N', 'N'], ['FHD US', 'N', 'N', 'N', 'N'], ['ITV LN', 'N', 'N', 'Y', 'N'], ['ADL LN', 'N', 'N', 'N', 'N'], ['YDX BW', 'N', 'N', 'N', 'Y'], ['600685 CG', 'N', 'N', 'Y', 'N'], ['M1BT34 BN', 'N', 'N', 'N', 'Y'], ['BOW AF', 'N', 'N', 'N', 'N'], ['BOW1 AF', 'N', 'N', 'N', 'N'], ['LKODC US', 'N', 'N', 'N', 'N'], ['BRE AF', 'N', 'N', 'N', 'N']]\n"
     ]
    }
   ],
   "source": [
    "# Empty list to store the matching nested lists or tickers list elements\n",
    "data_to_write = []\n",
    "\n",
    "# Compare each element of list A with the first element of each nested list in list B\n",
    "for element_A in Tckrscsv_tickers_and_EC:\n",
    "    found_match = False\n",
    "    for nested_list in bulk_sanctions_edited:\n",
    "        if element_A == nested_list[0]:\n",
    "            data_to_write.append(nested_list)\n",
    "            found_match = True\n",
    "            break\n",
    "    if not found_match:\n",
    "        data_to_write.append([element_A, 'N', 'N', 'N', 'N'])\n",
    "\n",
    "print(\"data_to_write:\", data_to_write)\n",
    "print(len(data_to_write))\n",
    "data_to_write[0] = ['Ticker and Exchange Code', 'OFAC_SANCTIONED_SECURITY', 'EU_SANCTIONED_SECURITY', 'UK_SANCTIONED_SECURITY', 'EO14071_SANCTIONED_SECURITY']\n",
    "print(\"data_to_write:\", data_to_write)"
   ]
  },
  {
   "cell_type": "code",
   "execution_count": 111,
   "id": "90d1b576",
   "metadata": {},
   "outputs": [
    {
     "name": "stdout",
     "output_type": "stream",
     "text": [
      "Data has been written to 'Portfolio Sanctions1.csv'.\n"
     ]
    }
   ],
   "source": [
    "def write_to_csv(data_list, filename):\n",
    "    with open(filename, 'w', newline='') as csvfile:\n",
    "        writer = csv.writer(csvfile)\n",
    "        for row in data_list:\n",
    "            writer.writerow(row)\n",
    "\n",
    "\n",
    "\n",
    "# File name designation for the output csv\n",
    "csv_filename = 'Portfolio Sanctions1.csv'\n",
    "\n",
    "# Call the function to write the data to the CSV file\n",
    "write_to_csv(data_to_write, csv_filename)\n",
    "\n",
    "print(f\"Data has been written to '{csv_filename}'.\")"
   ]
  }
 ],
 "metadata": {
  "kernelspec": {
   "display_name": "Python 3 (ipykernel)",
   "language": "python",
   "name": "python3"
  },
  "language_info": {
   "codemirror_mode": {
    "name": "ipython",
    "version": 3
   },
   "file_extension": ".py",
   "mimetype": "text/x-python",
   "name": "python",
   "nbconvert_exporter": "python",
   "pygments_lexer": "ipython3",
   "version": "3.9.7"
  }
 },
 "nbformat": 4,
 "nbformat_minor": 5
}
